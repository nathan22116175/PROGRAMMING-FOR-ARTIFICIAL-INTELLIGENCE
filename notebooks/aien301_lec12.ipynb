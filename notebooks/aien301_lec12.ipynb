{
 "cells": [
  {
   "cell_type": "markdown",
   "metadata": {},
   "source": [
    "## Lambda functions "
   ]
  },
  {
   "cell_type": "markdown",
   "metadata": {},
   "source": [
    "A lambda function is a small anonymous function.\n",
    "\n",
    "lambda arguments : expression"
   ]
  },
  {
   "cell_type": "code",
   "execution_count": 1,
   "metadata": {},
   "outputs": [
    {
     "name": "stdout",
     "output_type": "stream",
     "text": [
      "15\n"
     ]
    }
   ],
   "source": [
    "# ex 1\n",
    "x = lambda a : a + 10\n",
    "print(x(5))"
   ]
  },
  {
   "cell_type": "code",
   "execution_count": 2,
   "metadata": {},
   "outputs": [
    {
     "name": "stdout",
     "output_type": "stream",
     "text": [
      "15\n"
     ]
    }
   ],
   "source": [
    "print((lambda a : a + 10)(5))"
   ]
  },
  {
   "cell_type": "code",
   "execution_count": 3,
   "metadata": {},
   "outputs": [
    {
     "name": "stdout",
     "output_type": "stream",
     "text": [
      "30\n"
     ]
    }
   ],
   "source": [
    "# ex 2\n",
    "x = lambda a, b : a * b\n",
    "print(x(5, 6))"
   ]
  },
  {
   "cell_type": "code",
   "execution_count": 4,
   "metadata": {},
   "outputs": [
    {
     "name": "stdout",
     "output_type": "stream",
     "text": [
      "13\n"
     ]
    }
   ],
   "source": [
    "# ex 3\n",
    "x = lambda a, b, c : a + b + c\n",
    "print(x(5, 6, 2))"
   ]
  },
  {
   "cell_type": "markdown",
   "metadata": {},
   "source": [
    "Why Use Lambda Functions?\n",
    "The power of lambda is better shown when you use them as an anonymous function inside another function."
   ]
  },
  {
   "cell_type": "code",
   "execution_count": 5,
   "metadata": {},
   "outputs": [
    {
     "name": "stdout",
     "output_type": "stream",
     "text": [
      "22\n"
     ]
    }
   ],
   "source": [
    "def myfunc(n):\n",
    "  return lambda a : a * n\n",
    "\n",
    "mydoubler = myfunc(2)\n",
    "\n",
    "print(mydoubler(11))"
   ]
  },
  {
   "cell_type": "code",
   "execution_count": 6,
   "metadata": {},
   "outputs": [
    {
     "name": "stdout",
     "output_type": "stream",
     "text": [
      "33\n"
     ]
    }
   ],
   "source": [
    "def myfunc(n):\n",
    "  return lambda a : a * n\n",
    "\n",
    "mytripler = myfunc(3)\n",
    "\n",
    "print(mytripler(11))"
   ]
  },
  {
   "cell_type": "code",
   "execution_count": 7,
   "metadata": {},
   "outputs": [
    {
     "name": "stdout",
     "output_type": "stream",
     "text": [
      "22\n",
      "33\n"
     ]
    }
   ],
   "source": [
    "def myfunc(n):\n",
    "  return lambda a : a * n\n",
    "\n",
    "mydoubler = myfunc(2)\n",
    "mytripler = myfunc(3)\n",
    "\n",
    "print(mydoubler(11))\n",
    "print(mytripler(11))"
   ]
  },
  {
   "cell_type": "markdown",
   "metadata": {},
   "source": [
    "## map() function\n",
    "\n",
    "The map() function executes a specified function for each item in an iterable. The item is sent to the function as a parameter.\n",
    "\n",
    "*map(function, iterables)*"
   ]
  },
  {
   "cell_type": "code",
   "execution_count": 8,
   "metadata": {},
   "outputs": [
    {
     "name": "stdout",
     "output_type": "stream",
     "text": [
      "<map object at 0x7f01a03e36a0>\n",
      "[5, 6, 6]\n"
     ]
    }
   ],
   "source": [
    "def myfunc(n):\n",
    "  return len(n)\n",
    "\n",
    "x = map(myfunc, ('apple', 'banana', 'cherry'))\n",
    "\n",
    "print(x) # returns map object\n",
    "print(list(x)) # convert to list"
   ]
  },
  {
   "cell_type": "code",
   "execution_count": 9,
   "metadata": {},
   "outputs": [
    {
     "name": "stdout",
     "output_type": "stream",
     "text": [
      "['appleorange', 'bananalemon', 'cherrypineapple']\n"
     ]
    }
   ],
   "source": [
    "def myfunc(a, b):\n",
    "  return a + b\n",
    "\n",
    "x = map(myfunc, ('apple', 'banana', 'cherry'), ('orange', 'lemon', 'pineapple'))\n",
    "\n",
    "print(list(x))"
   ]
  },
  {
   "cell_type": "code",
   "execution_count": 10,
   "metadata": {},
   "outputs": [
    {
     "name": "stdout",
     "output_type": "stream",
     "text": [
      "['appleorange', 'bananalemon', 'cherrypineapple']\n"
     ]
    }
   ],
   "source": [
    "x = map(lambda a,b: a+b, ('apple', 'banana', 'cherry'), ('orange', 'lemon', 'pineapple'))\n",
    "\n",
    "print(list(x))"
   ]
  },
  {
   "cell_type": "code",
   "execution_count": 11,
   "metadata": {},
   "outputs": [],
   "source": [
    "nums = [1, 2, 3, 4, 5]"
   ]
  },
  {
   "cell_type": "code",
   "execution_count": 12,
   "metadata": {},
   "outputs": [
    {
     "name": "stdout",
     "output_type": "stream",
     "text": [
      "[2, 4, 6, 8, 10]\n",
      "8\n"
     ]
    }
   ],
   "source": [
    "# example\n",
    "\n",
    "x = list(map(lambda n: n * 2, [1, 2, 3, 4, 5]))\n",
    "print(x)\n",
    "\n",
    "# or\n",
    "\n",
    "x = list(map(lambda n: 2 * n, nums))[-2]  # e.g. double each n\n",
    "print(x)"
   ]
  },
  {
   "cell_type": "code",
   "execution_count": 13,
   "metadata": {},
   "outputs": [
    {
     "name": "stdout",
     "output_type": "stream",
     "text": [
      "[-1, -2, -3, -4, -5]\n"
     ]
    }
   ],
   "source": [
    "# example\n",
    "\n",
    "print(list(map(lambda n: n * -1, nums)))"
   ]
  },
  {
   "cell_type": "code",
   "execution_count": 14,
   "metadata": {},
   "outputs": [
    {
     "name": "stdout",
     "output_type": "stream",
     "text": [
      "[2, 4, 8, 16, 32]\n"
     ]
    }
   ],
   "source": [
    "# example\n",
    "\n",
    "print(list(map(lambda n: 2 ** n, nums)))"
   ]
  },
  {
   "cell_type": "code",
   "execution_count": null,
   "metadata": {},
   "outputs": [
    {
     "name": "stdout",
     "output_type": "stream",
     "text": [
      "['SUMMER!', 'IS!', 'COMING!']\n"
     ]
    }
   ],
   "source": [
    "#example \n",
    "\n",
    "strs = ['Summer', 'is', 'coming']\n",
    "print(list(map(lambda s: s.upper() + '!', strs)))"
   ]
  },
  {
   "cell_type": "markdown",
   "metadata": {},
   "source": [
    "## Filter\n",
    "As a companion to map(), the filter() function takes a function and a list, and returns a subsetted list of the elements where the function returns true."
   ]
  },
  {
   "cell_type": "code",
   "execution_count": 16,
   "metadata": {},
   "outputs": [
    {
     "data": {
      "text/plain": [
       "['apple', 'donut']"
      ]
     },
     "execution_count": 16,
     "metadata": {},
     "output_type": "execute_result"
    }
   ],
   "source": [
    "# For example, given a list of strings, return a list of the strings where the length is greater than 3:\n",
    "strs = ['apple', 'and', 'a', 'donut']\n",
    "list(filter(lambda s: len(s) > 3, strs))"
   ]
  },
  {
   "cell_type": "code",
   "execution_count": 17,
   "metadata": {},
   "outputs": [
    {
     "data": {
      "text/plain": [
       "[5, 3, 1, 7]"
      ]
     },
     "execution_count": 17,
     "metadata": {},
     "output_type": "execute_result"
    }
   ],
   "source": [
    "# As another example, given a list of numbers, filter to contain only the odd numbers \n",
    "# (n % 2 is the modulus remainder after dividing by 2. For an even number returns 0, for an odd number 1.)\n",
    "\n",
    "nums = [5, 3, 6, 1, 7, 2]\n",
    "list(filter(lambda n: n % 2 == 1, nums))"
   ]
  }
 ],
 "metadata": {
  "kernelspec": {
   "display_name": "tf",
   "language": "python",
   "name": "python3"
  },
  "language_info": {
   "codemirror_mode": {
    "name": "ipython",
    "version": 3
   },
   "file_extension": ".py",
   "mimetype": "text/x-python",
   "name": "python",
   "nbconvert_exporter": "python",
   "pygments_lexer": "ipython3",
   "version": "3.10.11"
  }
 },
 "nbformat": 4,
 "nbformat_minor": 2
}
