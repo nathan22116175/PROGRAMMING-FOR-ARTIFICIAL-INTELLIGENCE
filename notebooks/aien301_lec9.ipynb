{
 "cells": [
  {
   "cell_type": "markdown",
   "metadata": {},
   "source": [
    "## Matrices operations"
   ]
  },
  {
   "cell_type": "code",
   "execution_count": 1,
   "metadata": {},
   "outputs": [],
   "source": [
    "import numpy as np"
   ]
  },
  {
   "cell_type": "code",
   "execution_count": 2,
   "metadata": {},
   "outputs": [
    {
     "name": "stdout",
     "output_type": "stream",
     "text": [
      "[[4 1]\n",
      " [2 2]]\n"
     ]
    }
   ],
   "source": [
    "# ex1: matrix multiplication\n",
    "a = np.array([[1, 0],\n",
    "              [0, 1]])\n",
    "b = np.array([[4, 1],\n",
    "              [2, 2]])\n",
    "c = np.matmul(a, b)\n",
    "print (c)"
   ]
  },
  {
   "cell_type": "code",
   "execution_count": 3,
   "metadata": {},
   "outputs": [
    {
     "name": "stdout",
     "output_type": "stream",
     "text": [
      "[[4 1]\n",
      " [2 2]]\n",
      "\n",
      "[[4 2]\n",
      " [1 2]]\n"
     ]
    }
   ],
   "source": [
    "# ex2: Transpose\n",
    "print(c)\n",
    "print()\n",
    "print(c.T)"
   ]
  },
  {
   "cell_type": "code",
   "execution_count": 4,
   "metadata": {},
   "outputs": [
    {
     "name": "stdout",
     "output_type": "stream",
     "text": [
      "[[ 1  4  9]\n",
      " [16 25 36]\n",
      " [49 64 81]]\n"
     ]
    }
   ],
   "source": [
    "# ex3: element-wise multiplication\n",
    "x1 = np.array([[1,2,3],[4,5,6],[7,8,9]])\n",
    "x2 = np.array([[1,2,3],[4,5,6],[7,8,9]])\n",
    "\n",
    "y=np.multiply(x1,x2)\n",
    "print(y)"
   ]
  },
  {
   "cell_type": "code",
   "execution_count": 5,
   "metadata": {},
   "outputs": [
    {
     "name": "stdout",
     "output_type": "stream",
     "text": [
      "[[ 1  4  9]\n",
      " [16 25 36]\n",
      " [49 64 81]]\n"
     ]
    }
   ],
   "source": [
    "# ex4: same as elementwise multiplication\n",
    "z=x1*x2\n",
    "print(z)"
   ]
  },
  {
   "cell_type": "code",
   "execution_count": 6,
   "metadata": {},
   "outputs": [
    {
     "name": "stdout",
     "output_type": "stream",
     "text": [
      "(3,)\n",
      "[17 11 19]\n",
      "3\n",
      "[20 14 22]\n"
     ]
    }
   ],
   "source": [
    "# ex5: broadcasting\n",
    "a = np.array([17, 11, 19]) # 1x3 Dimension array\n",
    "print(a.shape)\n",
    "print(a)\n",
    "b = 3 \n",
    "print(b)\n",
    " \n",
    "# Broadcasting happened because of\n",
    "# miss match in array Dimension.\n",
    "c = a + b  # a= [17, 11, 19] b= [3,3,3]\n",
    "print(c)"
   ]
  },
  {
   "cell_type": "code",
   "execution_count": 7,
   "metadata": {},
   "outputs": [
    {
     "name": "stdout",
     "output_type": "stream",
     "text": [
      "[[11 22 33]\n",
      " [10 20 30]]\n",
      "4\n",
      "[[15 26 37]\n",
      " [14 24 34]]\n"
     ]
    }
   ],
   "source": [
    "# ex6: broadcasting\n",
    "A = np.array([[11, 22, 33], [10, 20, 30]]) # 2x3\n",
    "print(A)\n",
    " \n",
    "b = 4\n",
    "print(b)\n",
    " \n",
    "C = A + b\n",
    "print(C)"
   ]
  },
  {
   "cell_type": "code",
   "execution_count": 8,
   "metadata": {},
   "outputs": [
    {
     "name": "stdout",
     "output_type": "stream",
     "text": [
      "[[ -9.  15.]\n",
      " [ 21.   5.]\n",
      " [-66. -33.]\n",
      " [-54. -15.]]\n",
      "\n",
      "[17.49285568 21.58703314 73.79024326 56.04462508]\n",
      "\n",
      "0\n",
      "\n",
      "2\n"
     ]
    }
   ],
   "source": [
    "# ex7: broadcarsting\n",
    "\n",
    "observation = np.array([111.0, 188.0]) # (2,)\n",
    "codes = np.array([[102.0, 203.0],\n",
    "               [132.0, 193.0],\n",
    "               [45.0, 155.0],\n",
    "               [57.0, 173.0]]) # (4x2) \n",
    "\n",
    "diff = codes - observation    # the broadcast happens here\n",
    "print(diff)\n",
    "print()\n",
    "\n",
    "# first you do element wise square, then you sum each row column value, \n",
    "# then you perform elementwise sqrt \n",
    "dist = np.sqrt(np.sum(diff**2,axis=-1)) # axis = 1\n",
    "print(dist)\n",
    "print()\n",
    "\n",
    "# return minimum value index\n",
    "minidx = np.argmin(dist)\n",
    "print(minidx)\n",
    "print()\n",
    "\n",
    "# return maximum value index\n",
    "maxidx = np.argmax(dist)\n",
    "print(maxidx)"
   ]
  },
  {
   "cell_type": "code",
   "execution_count": 9,
   "metadata": {},
   "outputs": [
    {
     "name": "stdout",
     "output_type": "stream",
     "text": [
      "[-3.  -2.5 -2.  -1.5 -1.  -0.5  0.   0.5  1.   1.5  2.   2.5]\n",
      "[0 1 2]\n",
      "[0. 1. 2.]\n",
      "[3 4 5 6]\n",
      "[3 5]\n"
     ]
    }
   ],
   "source": [
    "# arange\n",
    "# numpy.arange([start, ]stop, [step, ])\n",
    "\n",
    "# ex8\n",
    "print(np.arange(-3, 3, 0.5, dtype=float))\n",
    "print(np.arange(3))\n",
    "print(np.arange(3.0))\n",
    "print(np.arange(3,7))\n",
    "print(np.arange(3,7,2))"
   ]
  },
  {
   "cell_type": "code",
   "execution_count": 10,
   "metadata": {},
   "outputs": [
    {
     "name": "stdout",
     "output_type": "stream",
     "text": [
      "[0. 0. 0. 0. 0.]\n",
      "[0 0 0 0 0]\n",
      "[[0.]\n",
      " [0.]]\n"
     ]
    }
   ],
   "source": [
    "# zeros and ones array-----\"\"\"\n",
    "\n",
    "# ex9\n",
    "# use np.zeros or np.ones\n",
    "print(np.zeros(5)) # default: float\n",
    "print(np.zeros((5,), dtype=int)) # default: dtype=float\n",
    "print(np.zeros((2, 1))) # or [2,1]"
   ]
  },
  {
   "cell_type": "code",
   "execution_count": 11,
   "metadata": {},
   "outputs": [
    {
     "name": "stdout",
     "output_type": "stream",
     "text": [
      "2.5\n",
      "[2. 3.]\n",
      "[1.5 3.5]\n",
      "1\n",
      "[1 2]\n",
      "[1 3]\n",
      "4\n",
      "1.118033988749895\n"
     ]
    }
   ],
   "source": [
    "# Some fundemental functions \n",
    "\n",
    "# ex10\n",
    "a = np.array([[1, 2], [3, 4]]) \n",
    "\n",
    "# mean or average\n",
    "print(np.mean(a)) # return mean from entire matrix\n",
    "print(np.mean(a, axis=0)) # columnwise x-axis\n",
    "print(np.mean(a, axis=1)) # rowwise y-axis\n",
    "\n",
    "# minumum\n",
    "print(np.min(a)) # min of entire matrix\n",
    "print(np.min(a,axis=0))\n",
    "print(np.min(a,axis=1))\n",
    "\n",
    "# maximum\n",
    "print(np.max(a)) # max of entire matrix\n",
    "\n",
    "# standard deviation\n",
    "print(np.std(a)) # you can also use axis"
   ]
  }
 ],
 "metadata": {
  "kernelspec": {
   "display_name": "tf",
   "language": "python",
   "name": "python3"
  },
  "language_info": {
   "codemirror_mode": {
    "name": "ipython",
    "version": 3
   },
   "file_extension": ".py",
   "mimetype": "text/x-python",
   "name": "python",
   "nbconvert_exporter": "python",
   "pygments_lexer": "ipython3",
   "version": "3.10.11"
  }
 },
 "nbformat": 4,
 "nbformat_minor": 2
}
