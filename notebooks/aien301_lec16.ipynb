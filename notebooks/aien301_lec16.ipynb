{
 "cells": [
  {
   "cell_type": "markdown",
   "metadata": {},
   "source": [
    "## Python Dataclasses\n",
    "\n",
    "Dataclasses are python classes, but are suited for storing data objects. This module provides a decorator and functions for automatically adding generated special methods such as __init__() and __repr__() to user-defined classes."
   ]
  },
  {
   "cell_type": "code",
   "execution_count": null,
   "metadata": {},
   "outputs": [],
   "source": [
    "from dataclasses import dataclass\n",
    "from typing import Any"
   ]
  },
  {
   "cell_type": "code",
   "execution_count": null,
   "metadata": {},
   "outputs": [
    {
     "name": "stdout",
     "output_type": "stream",
     "text": [
      "2\n"
     ]
    }
   ],
   "source": [
    "# ex1\n",
    "## you dont need to create __init__, \n",
    "# it is by default created by the object at the background\n",
    "@dataclass\n",
    "class Number:\n",
    "    val: int\n",
    "obj = Number(2)\n",
    "print(obj.val)"
   ]
  },
  {
   "cell_type": "code",
   "execution_count": null,
   "metadata": {},
   "outputs": [
    {
     "name": "stdout",
     "output_type": "stream",
     "text": [
      "Python\n",
      "0\n",
      "0.0\n"
     ]
    }
   ],
   "source": [
    "# ex 2\n",
    "@dataclass\n",
    "class Product:\n",
    "   name: str\n",
    "   count: int = 0 # you can add default value by assigning in the class\n",
    "   price: float = 0.0\n",
    "\n",
    "# the variable without value assigning while object creation\n",
    "obj = Product(\"Python\")\n",
    "print(obj.name)\n",
    "print(obj.count)\n",
    "print(obj.price)"
   ]
  },
  {
   "cell_type": "markdown",
   "metadata": {},
   "source": [
    "It is mandatory to define the data type in dataclass. However, If you would rather not specify the datatype then, use `typing.Any`."
   ]
  },
  {
   "cell_type": "code",
   "execution_count": null,
   "metadata": {},
   "outputs": [],
   "source": [
    "# ex 3\n",
    "@dataclass\n",
    "class WithoutExplicitTypes:\n",
    "    name: Any\n",
    "    value: Any = 42"
   ]
  },
  {
   "cell_type": "code",
   "execution_count": null,
   "metadata": {},
   "outputs": [
    {
     "name": "stdout",
     "output_type": "stream",
     "text": [
      "GfgArticle(title='DataClasses', author='vibhu4agarwal', language='Python', upvotes=0)\n",
      "DataClass Equal: True\n",
      "Normal Class Equal: False\n"
     ]
    }
   ],
   "source": [
    "# ex 4\n",
    "@dataclass\n",
    "class GfgArticle():\n",
    "    \"\"\"A class for holding an article content\"\"\"\n",
    " \n",
    "    # Attributes Declaration\n",
    "    # using Type Hints\n",
    " \n",
    "    title: str\n",
    "    author: str\n",
    "    language: str\n",
    "    upvotes: int\n",
    " \n",
    "# A DataClass object\n",
    "article = GfgArticle(\"DataClasses\",\n",
    "                     \"vibhu4agarwal\",\n",
    "                     \"Python\", 0)\n",
    "\n",
    "\n",
    "\"\"\"The output of printing object is a neat representation of the data present in it, \n",
    "without any explicit function coded to do this.\"\"\"\n",
    "\n",
    "print(article) # __repr__() function is called\n",
    "\n",
    "#####################################################################\n",
    "\n",
    "class NormalArticle():\n",
    "    \"\"\"A class for holding an article content\"\"\"\n",
    " \n",
    "    # Equivalent Constructor\n",
    "    def __init__(self, title, author, language, upvotes):\n",
    "        self.title = title\n",
    "        self.author = author\n",
    "        self.language = language\n",
    "        self.upvotes = upvotes\n",
    " \n",
    "# Two DataClass objects\n",
    "dClassArticle1 = GfgArticle(\"DataClasses\",\n",
    "                            \"vibhu4agarwal\",\n",
    "                            \"Python\", 0)\n",
    "dClassArticle2 = GfgArticle(\"DataClasses\",\n",
    "                            \"vibhu4agarwal\",\n",
    "                            \"Python\", 0)\n",
    " \n",
    "# Two objects of a normal class\n",
    "article1 = NormalArticle(\"DataClasses\",\n",
    "                         \"vibhu4agarwal\",\n",
    "                         \"Python\", 0)\n",
    "article2 = NormalArticle(\"DataClasses\",\n",
    "                         \"vibhu4agarwal\",\n",
    "                         \"Python\", 0)\n",
    "\n",
    "\n",
    "\"\"\"Equality between two objects using == operator in python checks for the same memory location. \n",
    "Since two objects take different memory locations on creation, the output for equality is False. \n",
    "Equality between DataClass objects checks for the equality of data present in it. \n",
    "This accounts for True as output for equality check between two DataClass objects which contain same data.\"\"\"\n",
    "\n",
    "print(\"DataClass Equal:\", dClassArticle1 == dClassArticle2)\n",
    "print(\"Normal Class Equal:\", article1 == article2)"
   ]
  },
  {
   "cell_type": "code",
   "execution_count": null,
   "metadata": {},
   "outputs": [],
   "source": [
    "# frozen=True indicates that object becomes immutable\n",
    "\n",
    "@dataclass(frozen= True)\n",
    "class DatasetConfig:\n",
    "    NUM_CLASSES: int \n",
    "    IMG_WIDTH:   int = 512\n",
    "    IMG_HEIGHT:  int = 384\n",
    "    DATA_TRAIN_IMAGES: str = 'dataset_SUIM/train/images/*.jpg'\n",
    "    DATA_TRAIN_LABELS: str = 'dataset_SUIM/train/masks/*.bmp'\n",
    "    DATA_VALID_IMAGES: str = 'dataset_SUIM/valid/images/*.jpg'\n",
    "    DATA_VALID_LABELS: str = 'dataset_SUIM/valid/masks/*.bmp'\n",
    "    DATA_TEST_IMAGES:  str = 'dataset_SUIM/test/images/*.jpg'\n",
    "    DATA_TEST_LABELS:  str = 'dataset_SUIM/test/masks/*.bmp'"
   ]
  },
  {
   "cell_type": "code",
   "execution_count": null,
   "metadata": {},
   "outputs": [
    {
     "name": "stdout",
     "output_type": "stream",
     "text": [
      "54\n"
     ]
    }
   ],
   "source": [
    "p = DatasetConfig(54)    \n",
    "print(p.NUM_CLASSES)\n",
    "#p.NUM_CLASSES = 12 # error"
   ]
  }
 ],
 "metadata": {
  "language_info": {
   "name": "python"
  }
 },
 "nbformat": 4,
 "nbformat_minor": 2
}
