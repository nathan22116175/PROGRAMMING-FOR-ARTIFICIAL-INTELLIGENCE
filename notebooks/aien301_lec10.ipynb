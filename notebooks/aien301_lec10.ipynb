{
 "cells": [
  {
   "cell_type": "markdown",
   "metadata": {},
   "source": [
    "## Functions"
   ]
  },
  {
   "cell_type": "code",
   "execution_count": 1,
   "metadata": {},
   "outputs": [
    {
     "name": "stdout",
     "output_type": "stream",
     "text": [
      "Hello from a function\n"
     ]
    }
   ],
   "source": [
    "#ex1\n",
    "def my_function():\n",
    "  print(\"Hello from a function\")\n",
    "\n",
    "my_function()"
   ]
  },
  {
   "cell_type": "code",
   "execution_count": 2,
   "metadata": {},
   "outputs": [
    {
     "name": "stdout",
     "output_type": "stream",
     "text": [
      "Emil Refsnes\n",
      "Tobias Refsnes\n",
      "Linus Refsnes\n"
     ]
    }
   ],
   "source": [
    "#ex2\n",
    "def my_function(fname):\n",
    "  print(fname + \" Refsnes\")\n",
    "\n",
    "my_function(\"Emil\")\n",
    "my_function(\"Tobias\")\n",
    "my_function(\"Linus\")"
   ]
  },
  {
   "cell_type": "code",
   "execution_count": 3,
   "metadata": {},
   "outputs": [
    {
     "name": "stdout",
     "output_type": "stream",
     "text": [
      "Emil Refsnes\n"
     ]
    }
   ],
   "source": [
    "#ex3\n",
    "def my_function(fname, lname):\n",
    "  print(fname + \" \" + lname)\n",
    "\n",
    "a = \"Emil\"\n",
    "my_function(a, \"Refsnes\")"
   ]
  },
  {
   "cell_type": "code",
   "execution_count": 4,
   "metadata": {},
   "outputs": [
    {
     "name": "stdout",
     "output_type": "stream",
     "text": [
      "The youngest child is Linus\n"
     ]
    }
   ],
   "source": [
    "#ex4: If the number of arguments is unknown, add a * before the parameter name\n",
    "def my_function(*kids):\n",
    "  print(\"The youngest child is \" + kids[2])\n",
    "\n",
    "my_function(\"Emil\", \"Tobias\", \"Linus\")"
   ]
  },
  {
   "cell_type": "code",
   "execution_count": 5,
   "metadata": {},
   "outputs": [
    {
     "name": "stdout",
     "output_type": "stream",
     "text": [
      "The youngest child is Linus\n"
     ]
    }
   ],
   "source": [
    "#ex5: This way the order of the arguments does not matter.\n",
    "def my_function(child3, child2, child1):\n",
    "  print(\"The youngest child is \" + child3)\n",
    "\n",
    "my_function(child1 = \"Emil\", child2 = \"Tobias\", child3 = \"Linus\")"
   ]
  },
  {
   "cell_type": "code",
   "execution_count": 6,
   "metadata": {},
   "outputs": [
    {
     "name": "stdout",
     "output_type": "stream",
     "text": [
      "I am from Sweden\n",
      "I am from India\n",
      "I am from Norway\n",
      "I am from Brazil\n"
     ]
    }
   ],
   "source": [
    "#ex6:\n",
    "def my_function(country = \"Norway\"):\n",
    "  print(\"I am from \" + country)\n",
    "\n",
    "my_function(\"Sweden\")\n",
    "my_function(\"India\")\n",
    "my_function()\n",
    "my_function(\"Brazil\")"
   ]
  },
  {
   "cell_type": "code",
   "execution_count": 7,
   "metadata": {},
   "outputs": [
    {
     "name": "stdout",
     "output_type": "stream",
     "text": [
      "apple\n",
      "banana\n",
      "cherry\n"
     ]
    }
   ],
   "source": [
    "#ex7\n",
    "def my_function(food):\n",
    "  for x in food:\n",
    "    print(x)\n",
    "\n",
    "fruits = [\"apple\", \"banana\", \"cherry\"]\n",
    "my_function(fruits)"
   ]
  },
  {
   "cell_type": "code",
   "execution_count": 8,
   "metadata": {},
   "outputs": [
    {
     "name": "stdout",
     "output_type": "stream",
     "text": [
      "15\n",
      "25\n",
      "45\n"
     ]
    }
   ],
   "source": [
    "#ex8: return \n",
    "def my_function(x):\n",
    "  return 5 * x\n",
    "\n",
    "print(my_function(3))\n",
    "print(my_function(5))\n",
    "print(my_function(9))"
   ]
  },
  {
   "cell_type": "code",
   "execution_count": 9,
   "metadata": {},
   "outputs": [],
   "source": [
    "#ex9: pass statement\n",
    "def myfunction():\n",
    "  pass"
   ]
  },
  {
   "cell_type": "code",
   "execution_count": 10,
   "metadata": {},
   "outputs": [
    {
     "name": "stdout",
     "output_type": "stream",
     "text": [
      "39\n",
      "15\n",
      "15\n"
     ]
    }
   ],
   "source": [
    "# if you have default arguments, they should place at the end of the function\n",
    "def calculate(num3, num4, num5, num1=20, num2=5):\n",
    "    return num1+num2+num3+num4+num5\n",
    "\n",
    "print(calculate(num3=2,num4=1,num5=11)) # use default arguments\n",
    "print(calculate(num1=1,num2=2,num3=3,num4=4,num5=5)) # we set arguments value\n",
    "print(calculate(5,4,3,2,1)) # the order will be same as function header order"
   ]
  },
  {
   "cell_type": "code",
   "execution_count": 11,
   "metadata": {},
   "outputs": [
    {
     "name": "stdout",
     "output_type": "stream",
     "text": [
      "['CIU']\n",
      "['CIU']\n"
     ]
    }
   ],
   "source": [
    "def f1():\n",
    "    s = ['Cyprus International University']\n",
    "    \n",
    "    def f2():\n",
    "        s[0] = 'CIU'\n",
    "        print(s)\n",
    "        \n",
    "    f2()\n",
    "    print(s)\n",
    "\n",
    "\n",
    "f1()"
   ]
  },
  {
   "cell_type": "markdown",
   "metadata": {},
   "source": [
    "# Pass by reference vs value in Python"
   ]
  },
  {
   "cell_type": "markdown",
   "metadata": {},
   "source": [
    "**Pass by Value and Pass by Reference in Python**\n",
    "* Python's argument-passing model is neither `Pass by Value` nor `Pass by Reference` but it is `Pass by Object Reference`. \n",
    "* Depending on the type of object you pass in the function, the function behaves differently. Immutable objects show `pass by value` whereas mutable objects show `pass by reference`."
   ]
  },
  {
   "cell_type": "code",
   "execution_count": 12,
   "metadata": {},
   "outputs": [
    {
     "name": "stdout",
     "output_type": "stream",
     "text": [
      "number before= 6\n",
      "in function value updated to 12\n",
      "after function num value= 6\n",
      "list before ['E']\n",
      "in function list updated to ['E', 'D']\n",
      "after function list is  ['E', 'D']\n"
     ]
    }
   ],
   "source": [
    "def call_by_value(x):\n",
    "    x = x * 2\n",
    "    print(\"in function value updated to\", x)\n",
    "    return\n",
    "\n",
    "def call_by_reference(list):\n",
    "    list.append(\"D\")\n",
    "    print(\"in function list updated to\", list)\n",
    "    return\n",
    "\n",
    "my_list = [\"E\"]\n",
    "num = 6\n",
    "print(\"number before=\", num)\n",
    "call_by_value(num)\n",
    "print(\"after function num value=\", num)\n",
    "print(\"list before\",my_list)\n",
    "call_by_reference(my_list)\n",
    "print(\"after function list is \",my_list)"
   ]
  },
  {
   "cell_type": "markdown",
   "metadata": {},
   "source": [
    "**Pass by Reference In Python Example**"
   ]
  },
  {
   "cell_type": "code",
   "execution_count": 13,
   "metadata": {},
   "outputs": [
    {
     "name": "stdout",
     "output_type": "stream",
     "text": [
      "Inside function: ['Geeks', 'for', 'Geeks']\n",
      "Outside function: ['Geeks', 'for', 'Geeks']\n"
     ]
    }
   ],
   "source": [
    "def modify_list(x):\n",
    "    x.append(\"Geeks\")\n",
    "    print(\"Inside function:\", x)\n",
    "\n",
    "my_list = ['Geeks', 'for']\n",
    "modify_list(my_list)\n",
    "print(\"Outside function:\", my_list)"
   ]
  },
  {
   "cell_type": "markdown",
   "metadata": {},
   "source": [
    "**Pass by Value In Python Example**"
   ]
  },
  {
   "cell_type": "code",
   "execution_count": 14,
   "metadata": {},
   "outputs": [
    {
     "name": "stdout",
     "output_type": "stream",
     "text": [
      "Before function call: 5\n",
      "Inside function: 15\n",
      "After function call: 5\n"
     ]
    }
   ],
   "source": [
    "def modify_integer(x):\n",
    "    x = x + 10  \n",
    "    print(\"Inside function:\", x)\n",
    "\n",
    "x = 5\n",
    "print(\"Before function call:\", x)\n",
    "modify_integer(x)\n",
    "print(\"After function call:\", x) # x is not changed"
   ]
  }
 ],
 "metadata": {
  "kernelspec": {
   "display_name": "tf",
   "language": "python",
   "name": "python3"
  },
  "language_info": {
   "codemirror_mode": {
    "name": "ipython",
    "version": 3
   },
   "file_extension": ".py",
   "mimetype": "text/x-python",
   "name": "python",
   "nbconvert_exporter": "python",
   "pygments_lexer": "ipython3",
   "version": "3.10.11"
  }
 },
 "nbformat": 4,
 "nbformat_minor": 2
}
