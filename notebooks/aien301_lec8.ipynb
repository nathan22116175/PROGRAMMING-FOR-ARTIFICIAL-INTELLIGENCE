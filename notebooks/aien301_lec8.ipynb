{
 "cells": [
  {
   "cell_type": "markdown",
   "metadata": {},
   "source": [
    "## deepcopy vs copy"
   ]
  },
  {
   "cell_type": "code",
   "execution_count": 1,
   "metadata": {},
   "outputs": [],
   "source": [
    "# importing \"copy\" for copy operations\n",
    "import copy"
   ]
  },
  {
   "cell_type": "code",
   "execution_count": 2,
   "metadata": {},
   "outputs": [
    {
     "name": "stdout",
     "output_type": "stream",
     "text": [
      "The original elements before deep copying (li1)\n",
      "1,2,[3, 5],4,\n",
      "The new list of elements after deep copying(li2)\n",
      "1,2,[7, 5],4,\n",
      "The original elements after deep copying(li1)\n",
      "1,2,[3, 5],4,"
     ]
    }
   ],
   "source": [
    "#ex1: deepcopy different object is created\n",
    "# deepcopy means that copying only content -- copy constructor\n",
    " \n",
    "# initializing list 1\n",
    "li1 = [1, 2, [3,5], 4]\n",
    " \n",
    "# using deepcopy to deep copy\n",
    "li2 = copy.deepcopy(li1)\n",
    " \n",
    "# original elements of list\n",
    "print (\"The original elements before deep copying (li1)\")\n",
    "for i in range(0,len(li1)):\n",
    "    print (li1[i],end=\",\")\n",
    " \n",
    "print(\"\\r\")\n",
    " \n",
    "# adding and element to new list\n",
    "li2[2][0] = 7\n",
    " \n",
    "# Change is reflected in l2\n",
    "print (\"The new list of elements after deep copying(li2)\")\n",
    "for i in range(0,len(li2)):\n",
    "    print (li2[i],end=\",\")\n",
    " \n",
    "print(\"\\r\")\n",
    " \n",
    "# Change is NOT reflected in original list\n",
    "# as it is a deep copy\n",
    "print (\"The original elements after deep copying(li1)\")\n",
    "for i in range(0,len(li1)):\n",
    "    print (li1[i],end=\",\")"
   ]
  },
  {
   "cell_type": "code",
   "execution_count": 3,
   "metadata": {},
   "outputs": [
    {
     "name": "stdout",
     "output_type": "stream",
     "text": [
      "The original elements before shallow copying (li1)\n",
      "1,2,[3, 5],4,\n",
      "chaning li2 element\n",
      "The original elements after shallow copying(li1)\n",
      "1,2,[7, 5],4,"
     ]
    }
   ],
   "source": [
    "# ex2: copy same object is referencing \n",
    "# when using copy, it copies memory address so both variables have same address\n",
    "\n",
    "# initializing list 1\n",
    "li1 = [1, 2, [3,5], 4]\n",
    " \n",
    "# using copy to shallow copy\n",
    "li2 = copy.copy(li1)\n",
    " \n",
    "# original elements of list\n",
    "print (\"The original elements before shallow copying (li1)\")\n",
    "for i in range(0,len(li1)):\n",
    "    print (li1[i],end=\",\")\n",
    " \n",
    "print(\"\\r\")\n",
    "\n",
    "print(\"chaning li2 element\")\n",
    "# adding and element to new list\n",
    "li2[2][0] = 7\n",
    " \n",
    "# checking if change is reflected\n",
    "print (\"The original elements after shallow copying(li1)\")\n",
    "for i in range(0,len(li1)):\n",
    "    print (li1[i],end=\",\")"
   ]
  },
  {
   "cell_type": "code",
   "execution_count": 4,
   "metadata": {},
   "outputs": [
    {
     "name": "stdout",
     "output_type": "stream",
     "text": [
      "The original elements before shallow copying (li1)\n",
      "1,2,[3, 5],4,\n",
      "chaning li2 element\n",
      "The original elements after shallow copying(li1)\n",
      "1,2,[7, 5],4,"
     ]
    }
   ],
   "source": [
    "# ex2: copy using assignment operator - it copies the address\n",
    "\n",
    "# initializing list 1\n",
    "li1 = [1, 2, [3,5], 4]\n",
    " \n",
    "# using copy to shallow copy\n",
    "li2 = li1\n",
    " \n",
    "# original elements of list\n",
    "print (\"The original elements before shallow copying (li1)\")\n",
    "for i in range(0,len(li1)):\n",
    "    print (li1[i],end=\",\")\n",
    " \n",
    "print(\"\\r\")\n",
    "\n",
    "print(\"chaning li2 element\")\n",
    "# adding and element to new list\n",
    "li2[2][0] = 7\n",
    " \n",
    "# checking if change is reflected\n",
    "print (\"The original elements after shallow copying(li1)\")\n",
    "for i in range(0,len(li1)):\n",
    "    print (li1[i],end=\",\")"
   ]
  }
 ],
 "metadata": {
  "kernelspec": {
   "display_name": "tf",
   "language": "python",
   "name": "python3"
  },
  "language_info": {
   "codemirror_mode": {
    "name": "ipython",
    "version": 3
   },
   "file_extension": ".py",
   "mimetype": "text/x-python",
   "name": "python",
   "nbconvert_exporter": "python",
   "pygments_lexer": "ipython3",
   "version": "3.10.11"
  }
 },
 "nbformat": 4,
 "nbformat_minor": 2
}
