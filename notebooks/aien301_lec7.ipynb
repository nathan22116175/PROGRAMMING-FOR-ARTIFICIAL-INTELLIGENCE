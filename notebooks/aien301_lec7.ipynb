{
 "cells": [
  {
   "cell_type": "markdown",
   "metadata": {},
   "source": [
    "## Random Numbers in NumPy"
   ]
  },
  {
   "cell_type": "code",
   "execution_count": 1,
   "metadata": {},
   "outputs": [],
   "source": [
    "from numpy import random\n",
    "import numpy as np"
   ]
  },
  {
   "cell_type": "code",
   "execution_count": 2,
   "metadata": {},
   "outputs": [],
   "source": [
    "# random number generator seeding that means \n",
    "# when you restart computer same random numbers\n",
    "np.random.seed(1337)"
   ]
  },
  {
   "cell_type": "code",
   "execution_count": 3,
   "metadata": {},
   "outputs": [
    {
     "name": "stdout",
     "output_type": "stream",
     "text": [
      "23\n"
     ]
    }
   ],
   "source": [
    "# ex1: Generate a random integer from 0 to 100\n",
    "x = random.randint(100)\n",
    "print(x)"
   ]
  },
  {
   "cell_type": "code",
   "execution_count": 4,
   "metadata": {},
   "outputs": [
    {
     "name": "stdout",
     "output_type": "stream",
     "text": [
      "0.5605297472974954\n"
     ]
    }
   ],
   "source": [
    "# ex2: The random module's rand() method returns a random float between 0 and 1.\n",
    "x = random.rand()\n",
    "print(x)"
   ]
  },
  {
   "cell_type": "code",
   "execution_count": 5,
   "metadata": {},
   "outputs": [
    {
     "name": "stdout",
     "output_type": "stream",
     "text": [
      "[39 89 39 90 82]\n"
     ]
    }
   ],
   "source": [
    "# ex3: Generate Random Array\n",
    "x=random.randint(100, size=(5))\n",
    "print(x)"
   ]
  },
  {
   "cell_type": "code",
   "execution_count": 6,
   "metadata": {},
   "outputs": [
    {
     "name": "stdout",
     "output_type": "stream",
     "text": [
      "[[84 72  9  6 54]\n",
      " [90 23 24  1 27]\n",
      " [93  6 22 66 75]]\n"
     ]
    }
   ],
   "source": [
    "# ex4\n",
    "x = random.randint(100, size=(3, 5))\n",
    "print(x)"
   ]
  },
  {
   "cell_type": "code",
   "execution_count": 7,
   "metadata": {},
   "outputs": [
    {
     "name": "stdout",
     "output_type": "stream",
     "text": [
      "[0.44322487 0.78955834 0.79411858 0.36126157 0.41610394]\n"
     ]
    }
   ],
   "source": [
    "# ex5\n",
    "x = random.rand(5)\n",
    "print(x)"
   ]
  },
  {
   "cell_type": "code",
   "execution_count": 8,
   "metadata": {},
   "outputs": [
    {
     "name": "stdout",
     "output_type": "stream",
     "text": [
      "[[0.58425813 0.76017177 0.18780841 0.28816715 0.67021886]\n",
      " [0.49964826 0.17856868 0.4131413  0.19919524 0.5316994 ]\n",
      " [0.8323707  0.18525095 0.95735922 0.42541467 0.50400704]]\n"
     ]
    }
   ],
   "source": [
    "# ex6\n",
    "x = random.rand(3, 5)\n",
    "print(x)"
   ]
  },
  {
   "cell_type": "code",
   "execution_count": 9,
   "metadata": {},
   "outputs": [
    {
     "name": "stdout",
     "output_type": "stream",
     "text": [
      "[[ 0.06282568 -2.90525129  1.39014041  2.95983024 -2.0227348 ]\n",
      " [-2.24019132 -0.75099489  1.15931667 -2.98259382 -0.78462563]\n",
      " [-2.64792405  1.73601651 -0.90138472  1.21514232 -0.05262554]]\n"
     ]
    }
   ],
   "source": [
    "# ex: generate random real number number between [minx, maxx]\n",
    "minx = -3\n",
    "maxx = 3\n",
    "x = (maxx-minx)*random.rand(3, 5)+minx\n",
    "print(x)"
   ]
  },
  {
   "cell_type": "code",
   "execution_count": 10,
   "metadata": {},
   "outputs": [
    {
     "name": "stdout",
     "output_type": "stream",
     "text": [
      "5\n"
     ]
    }
   ],
   "source": [
    "# ex7: Generate Random Number From Array\n",
    "#The choice() method allows you to generate a random value \n",
    "#based on an array of values.\n",
    "\n",
    "#The choice() method takes an array as a parameter and randomly \n",
    "#returns one of the values.\n",
    "\n",
    "x = random.choice([3, 5, 7, 9])\n",
    "print(x)"
   ]
  },
  {
   "cell_type": "code",
   "execution_count": 11,
   "metadata": {},
   "outputs": [
    {
     "name": "stdout",
     "output_type": "stream",
     "text": [
      "[ 0  1  2  3  4  5  6  7  8  9 10 11 12 13 14 15 16 17 18 19 20 21 22 23\n",
      " 24 25 26 27 28 29 30 31 32 33 34 35 36 37 38 39 40 41 42 43 44 45 46 47\n",
      " 48 49 50 51 52 53 54 55 56 57 58 59 60 61 62 63 64 65 66 67 68 69 70 71\n",
      " 72 73 74 75 76 77 78 79 80 81 82 83 84 85 86 87 88 89 90 91 92 93 94 95\n",
      " 96 97 98 99]\n",
      "a:98\n",
      "b:48\n"
     ]
    }
   ],
   "source": [
    "x = np.arange(100) # generate a vector sequencially from 0 to 99 \n",
    "print(x)\n",
    "\n",
    "a = random.choice(x)\n",
    "b = a\n",
    "while b == a: # this continue until b and a are different\n",
    "    b = random.choice(x)\n",
    "\n",
    "print(f\"a:{a}\\nb:{b}\")"
   ]
  }
 ],
 "metadata": {
  "kernelspec": {
   "display_name": "tf",
   "language": "python",
   "name": "python3"
  },
  "language_info": {
   "codemirror_mode": {
    "name": "ipython",
    "version": 3
   },
   "file_extension": ".py",
   "mimetype": "text/x-python",
   "name": "python",
   "nbconvert_exporter": "python",
   "pygments_lexer": "ipython3",
   "version": "3.10.11"
  }
 },
 "nbformat": 4,
 "nbformat_minor": 2
}
